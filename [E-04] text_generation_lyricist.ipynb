{
 "cells": [
  {
   "cell_type": "markdown",
   "id": "9a822200",
   "metadata": {},
   "source": [
    "인공지능 작사가 만들기\n",
    "1.데이터 불러오기"
   ]
  },
  {
   "cell_type": "code",
   "execution_count": 1,
   "id": "49f3a31f",
   "metadata": {},
   "outputs": [
    {
     "name": "stdout",
     "output_type": "stream",
     "text": [
      "데이터 크기: 187088\n",
      "Examples:\n",
      " [\"Now I've heard there was a secret chord\", 'That David played, and it pleased the Lord', \"But you don't really care for music, do you?\", 'It goes like this', 'The fourth, the fifth', 'The minor fall, the major lift', 'The baffled king composing Hallelujah Hallelujah', 'Hallelujah', 'Hallelujah', 'Hallelujah Your faith was strong but you needed proof', 'You saw her bathing on the roof', 'Her beauty and the moonlight overthrew her', 'She tied you', 'To a kitchen chair', 'She broke your throne, and she cut your hair', 'And from your lips she drew the Hallelujah Hallelujah', 'Hallelujah', 'Hallelujah', 'Hallelujah You say I took the name in vain', \"I don't even know the name\", \"But if I did, well really, what's it to you?\", \"There's a blaze of light\", 'In every word', \"It doesn't matter which you heard\", 'The holy or the broken Hallelujah Hallelujah', 'Hallelujah', 'Hallelujah', \"Hallelujah I did my best, it wasn't much\", \"I couldn't feel, so I tried to touch\", \"I've told the truth, I didn't come to fool you\"]\n"
     ]
    }
   ],
   "source": [
    "import re\n",
    "import numpy as np\n",
    "import tensorflow as tf\n",
    "import glob\n",
    "import os\n",
    "\n",
    "txt_file_path = os.getenv('HOME')+'/aiffel/lyricist/data/lyrics/*'\n",
    "\n",
    "txt_list = glob.glob(txt_file_path)\n",
    "\n",
    "\n",
    "raw_corpus = []\n",
    "\n",
    "# 여러개의 txt 파일을 모두 읽어서 raw_corpus 리스트에 문장 단위로 저장 \n",
    "for txt_file in txt_list:\n",
    "    with open(txt_file, \"r\") as f:\n",
    "        raw = f.read().splitlines()   # 텍스트를 라인 단위로 끊어서 읽어오기\n",
    "        raw_corpus.extend(raw)\n",
    "\n",
    "print(\"데이터 크기:\", len(raw_corpus))\n",
    "print(\"Examples:\\n\", raw_corpus[:30])"
   ]
  },
  {
   "cell_type": "markdown",
   "id": "bf776222",
   "metadata": {},
   "source": [
    "2.데이터 정제하기"
   ]
  },
  {
   "cell_type": "code",
   "execution_count": 2,
   "id": "6d751bbf",
   "metadata": {},
   "outputs": [
    {
     "name": "stdout",
     "output_type": "stream",
     "text": [
      "Now I've heard there was a secret chord\n",
      "That David played, and it pleased the Lord\n",
      "But you don't really care for music, do you?\n",
      "It goes like this\n",
      "The fourth, the fifth\n",
      "The minor fall, the major lift\n",
      "The baffled king composing Hallelujah Hallelujah\n",
      "Hallelujah\n",
      "Hallelujah\n",
      "Hallelujah Your faith was strong but you needed proof\n",
      "You saw her bathing on the roof\n",
      "Her beauty and the moonlight overthrew her\n",
      "She tied you\n",
      "To a kitchen chair\n",
      "She broke your throne, and she cut your hair\n",
      "And from your lips she drew the Hallelujah Hallelujah\n",
      "Hallelujah\n",
      "Hallelujah\n",
      "Hallelujah You say I took the name in vain\n",
      "I don't even know the name\n",
      "But if I did, well really, what's it to you?\n",
      "There's a blaze of light\n",
      "In every word\n",
      "It doesn't matter which you heard\n",
      "The holy or the broken Hallelujah Hallelujah\n",
      "Hallelujah\n",
      "Hallelujah\n",
      "Hallelujah I did my best, it wasn't much\n",
      "I couldn't feel, so I tried to touch\n",
      "I've told the truth, I didn't come to fool you\n",
      "And even though\n"
     ]
    }
   ],
   "source": [
    "for idx, sentence in enumerate(raw_corpus):\n",
    "    if len(sentence) == 0: continue   # 길이가 0인 문장은 건너뜁니다.\n",
    "    \n",
    "    raw_corpus.append(sentence)\n",
    "    \n",
    "    if idx > 30: break   # 문장 30개만 확인\n",
    "    print(sentence)"
   ]
  },
  {
   "cell_type": "markdown",
   "id": "a4a39e32",
   "metadata": {},
   "source": [
    "3. 토큰화 하기"
   ]
  },
  {
   "cell_type": "code",
   "execution_count": 3,
   "id": "ed788508",
   "metadata": {},
   "outputs": [],
   "source": [
    "def preprocess_sentence(sentence):\n",
    "    sentence = sentence.lower().strip()       # 소문자로 바꾸고 양쪽 공백을 삭제\n",
    "    sentence = re.sub(r\"([?.!,¿])\", r\" \\1 \", sentence)       # 패턴의 특수문자를 만나면 특수문자 양쪽에 공백을 추가\n",
    "    sentence = re.sub(r'[\" \"]+', \" \", sentence)              # 공백 패턴을 만나면 스페이스 1개로 치환\n",
    "    sentence = re.sub(r\"[^a-zA-Z?.!,¿]+\", \" \", sentence)  # a-zA-Z?.!,¿ 패턴을 제외한 모든 문자(공백문자까지도)를 스페이스 1개로 치환\n",
    "    sentence = sentence.strip()\n",
    "    sentence = '<start> ' + sentence + ' <end>'      # 문장 앞뒤로 <start>와 <end>를 단어처럼 붙여줌\n",
    "    return sentence"
   ]
  },
  {
   "cell_type": "code",
   "execution_count": 4,
   "id": "42e843b8",
   "metadata": {},
   "outputs": [
    {
     "data": {
      "text/plain": [
       "['<start> now i ve heard there was a secret chord <end>',\n",
       " '<start> that david played , and it pleased the lord <end>',\n",
       " '<start> but you don t really care for music , do you ? <end>',\n",
       " '<start> it goes like this <end>',\n",
       " '<start> the fourth , the fifth <end>',\n",
       " '<start> the minor fall , the major lift <end>',\n",
       " '<start> the baffled king composing hallelujah hallelujah <end>',\n",
       " '<start> hallelujah <end>',\n",
       " '<start> hallelujah <end>',\n",
       " '<start> hallelujah your faith was strong but you needed proof <end>',\n",
       " '<start> you saw her bathing on the roof <end>',\n",
       " '<start> her beauty and the moonlight overthrew her <end>',\n",
       " '<start> she tied you <end>',\n",
       " '<start> to a kitchen chair <end>',\n",
       " '<start> she broke your throne , and she cut your hair <end>',\n",
       " '<start> and from your lips she drew the hallelujah hallelujah <end>',\n",
       " '<start> hallelujah <end>',\n",
       " '<start> hallelujah <end>',\n",
       " '<start> hallelujah you say i took the name in vain <end>',\n",
       " '<start> i don t even know the name <end>',\n",
       " '<start> but if i did , well really , what s it to you ? <end>',\n",
       " '<start> there s a blaze of light <end>',\n",
       " '<start> in every word <end>',\n",
       " '<start> it doesn t matter which you heard <end>',\n",
       " '<start> the holy or the broken hallelujah hallelujah <end>',\n",
       " '<start> hallelujah <end>',\n",
       " '<start> hallelujah <end>',\n",
       " '<start> hallelujah i did my best , it wasn t much <end>',\n",
       " '<start> i couldn t feel , so i tried to touch <end>',\n",
       " '<start> i ve told the truth , i didn t come to fool you <end>']"
      ]
     },
     "execution_count": 4,
     "metadata": {},
     "output_type": "execute_result"
    }
   ],
   "source": [
    "corpus = []\n",
    "\n",
    "for sentence in raw_corpus:\n",
    "    if len(sentence) == 0: continue\n",
    "     \n",
    "    \n",
    "    preprocessed_sentence = preprocess_sentence(sentence)\n",
    "    corpus.append(preprocessed_sentence)\n",
    "      \n",
    "\n",
    "corpus[:30]"
   ]
  },
  {
   "cell_type": "code",
   "execution_count": 5,
   "id": "96fed309",
   "metadata": {},
   "outputs": [
    {
     "name": "stderr",
     "output_type": "stream",
     "text": [
      "/opt/conda/lib/python3.9/site-packages/numpy/lib/function_base.py:4454: VisibleDeprecationWarning: Creating an ndarray from ragged nested sequences (which is a list-or-tuple of lists-or-tuples-or ndarrays with different lengths or shapes) is deprecated. If you meant to do this, you must specify 'dtype=object' when creating the ndarray.\n",
      "  arr = asarray(arr)\n"
     ]
    },
    {
     "name": "stdout",
     "output_type": "stream",
     "text": [
      "152430\n",
      "[[  2  50   5 ...   0   0   0]\n",
      " [  2   5  22 ...   0   0   0]\n",
      " [  2  39  39 ...   0   0   0]\n",
      " ...\n",
      " [  2   5  91 ... 561   7   3]\n",
      " [  2   8 163 ...   0   0   0]\n",
      " [  2  11  24 ...   0   0   0]] <keras_preprocessing.text.Tokenizer object at 0x7f74e72e70a0>\n"
     ]
    }
   ],
   "source": [
    "def tokenize(corpus):\n",
    "    # 텐서플로우에서 제공하는 Tokenizer 패키지를 생성\n",
    "    tokenizer = tf.keras.preprocessing.text.Tokenizer(\n",
    "        num_words=15000,  # 전체 단어의 개수 \n",
    "        filters=' ',    # 별도로 전처리 로직을 추가할 수 있음. 이번에는 사용하지 안함\n",
    "        oov_token=\"<unk>\"  # out-of-vocabulary, 사전에 없었던 단어는 <unk> 처리\n",
    "    )\n",
    "    tokenizer.fit_on_texts(corpus)   # 구축한 corpus로부터 Tokenizer가 사전을 자동구축\n",
    "\n",
    "    # 이후 tokenizer를 활용하여 모델에 입력할 데이터셋을 구축하\n",
    "    tensor = tokenizer.texts_to_sequences(corpus)   # tokenizer는 구축한 사전으로부터 corpus를 해석해 Tensor로 변환.\n",
    "   \n",
    "    for num in tensor:\n",
    "        if len(num) >= 29:\n",
    "            tensor = np.delete(tensor, num)\n",
    "            \n",
    "    print(len(tensor))\n",
    "    tensor = tf.keras.preprocessing.sequence.pad_sequences(tensor, padding='post',maxlen=15)  \n",
    "\n",
    "    print(tensor,tokenizer)\n",
    "    return tensor, tokenizer\n",
    "\n",
    "    \n",
    "tensor, tokenizer = tokenize(corpus)"
   ]
  },
  {
   "cell_type": "code",
   "execution_count": 6,
   "id": "976ee87c",
   "metadata": {},
   "outputs": [
    {
     "name": "stdout",
     "output_type": "stream",
     "text": [
      "1 : <unk>\n",
      "2 : <start>\n",
      "3 : <end>\n",
      "4 : ,\n",
      "5 : i\n",
      "6 : the\n",
      "7 : you\n",
      "8 : and\n",
      "9 : a\n",
      "10 : to\n"
     ]
    }
   ],
   "source": [
    "# 단어 사전 어떻게 생겼는지 확인\n",
    "for idx in tokenizer.index_word:\n",
    "    print(idx, \":\", tokenizer.index_word[idx])\n",
    "\n",
    "    if idx >= 10: break\n",
    "        "
   ]
  },
  {
   "cell_type": "code",
   "execution_count": 7,
   "id": "7f8ac03d",
   "metadata": {},
   "outputs": [
    {
     "name": "stdout",
     "output_type": "stream",
     "text": [
      "[   2   50    5   91  297   64   57    9  962 5633    3    0    0    0]\n",
      "[  50    5   91  297   64   57    9  962 5633    3    0    0    0    0]\n"
     ]
    }
   ],
   "source": [
    "src_input = tensor[:, :-1]  # tensor에서 마지막 토큰을 잘라내서 소스 문장을 생성. 마지막 토큰은 <end>가 아니라 <pad>일 가능성이 높다.\n",
    "tgt_input = tensor[:, 1:]    # tensor에서 <start>를 잘라내서 타겟 문장을 생성.\n",
    "\n",
    "print(src_input[0])\n",
    "print(tgt_input[0])"
   ]
  },
  {
   "cell_type": "markdown",
   "id": "bd80f18d",
   "metadata": {},
   "source": [
    "4. 평가 데이터셋 분리하기"
   ]
  },
  {
   "cell_type": "code",
   "execution_count": 8,
   "id": "1c2762d4",
   "metadata": {},
   "outputs": [
    {
     "name": "stdout",
     "output_type": "stream",
     "text": [
      "Source Train: (30486, 14)\n",
      "Target Train: (30486, 14)\n"
     ]
    }
   ],
   "source": [
    "from sklearn.model_selection import train_test_split\n",
    "\n",
    "enc_train, enc_val, dec_train, dec_val = train_test_split(src_input,\n",
    "                                                          tgt_input,\n",
    "                                                          train_size = 0.2,\n",
    "                                                          random_state=34)\n",
    "\n",
    "print(\"Source Train:\", enc_train.shape)\n",
    "print(\"Target Train:\", dec_train.shape)"
   ]
  },
  {
   "cell_type": "code",
   "execution_count": 9,
   "id": "55c2e6c8",
   "metadata": {},
   "outputs": [
    {
     "data": {
      "text/plain": [
       "<BatchDataset shapes: ((256, 14), (256, 14)), types: (tf.int32, tf.int32)>"
      ]
     },
     "execution_count": 9,
     "metadata": {},
     "output_type": "execute_result"
    }
   ],
   "source": [
    "BUFFER_SIZE = len(src_input)         \n",
    "BATCH_SIZE = 256                     \n",
    "steps_per_epoch = len(src_input) // BATCH_SIZE\n",
    "\n",
    "VOCAB_SIZE = tokenizer.num_words + 1    # tokenizer가 구축한 단어사전 내 15000개와, 여기 포함되지 않은 0:<pad>를 포함하여 15001개\n",
    "\n",
    "dataset = tf.data.Dataset.from_tensor_slices((src_input, tgt_input)).shuffle(BUFFER_SIZE)\n",
    "dataset = dataset.batch(BATCH_SIZE, drop_remainder=True)\n",
    "dataset"
   ]
  },
  {
   "cell_type": "markdown",
   "id": "5f9981fd",
   "metadata": {},
   "source": [
    "5. 모델 학습하기"
   ]
  },
  {
   "cell_type": "code",
   "execution_count": 10,
   "id": "33bead7b",
   "metadata": {},
   "outputs": [],
   "source": [
    "class TextGenerator(tf.keras.Model):\n",
    "    def __init__(self, vocab_size, embedding_size, hidden_size):\n",
    "        super(TextGenerator, self).__init__()\n",
    "        \n",
    "        self.embedding = tf.keras.layers.Embedding(vocab_size, embedding_size)\n",
    "        self.rnn_1 = tf.keras.layers.LSTM(hidden_size, return_sequences=True)\n",
    "        self.rnn_2 = tf.keras.layers.LSTM(hidden_size, return_sequences=True)\n",
    "        self.drop  = tf.keras.layers.Dropout(0.5)\n",
    "        self.linear = tf.keras.layers.Dense(vocab_size)\n",
    "        \n",
    "    def call(self, x):\n",
    "        out = self.embedding(x)\n",
    "        out = self.rnn_1(out)\n",
    "        out = self.rnn_2(out)\n",
    "        out = self.drop(out)\n",
    "        out = self.linear(out)\n",
    "        \n",
    "        return out\n",
    "    \n",
    "embedding_size = 256\n",
    "hidden_size = 2048\n",
    "model = TextGenerator(tokenizer.num_words + 1, embedding_size , hidden_size)"
   ]
  },
  {
   "cell_type": "code",
   "execution_count": 11,
   "id": "b789f540",
   "metadata": {},
   "outputs": [
    {
     "data": {
      "text/plain": [
       "<tf.Tensor: shape=(256, 14, 15001), dtype=float32, numpy=\n",
       "array([[[ 1.02680482e-04,  1.53312096e-04,  1.44893362e-04, ...,\n",
       "          6.47222041e-05,  1.22277139e-04, -4.43175159e-05],\n",
       "        [ 3.12377815e-04,  3.41877196e-04,  1.85570563e-04, ...,\n",
       "          2.24266609e-04,  2.16036438e-04, -1.80199262e-04],\n",
       "        [ 5.49899705e-04,  3.75131582e-04,  2.34697989e-04, ...,\n",
       "          3.51029332e-04,  2.02147115e-04, -3.26054462e-04],\n",
       "        ...,\n",
       "        [ 6.85353356e-04,  1.26634550e-03, -1.07466294e-04, ...,\n",
       "          3.29018134e-04,  4.69532446e-04, -3.57399607e-04],\n",
       "        [ 7.66806595e-04,  1.08826894e-03, -4.14961280e-04, ...,\n",
       "          2.00115843e-04,  4.98281443e-05, -2.88796058e-04],\n",
       "        [ 1.06092752e-03,  1.15421298e-03, -5.64936025e-04, ...,\n",
       "          1.32507223e-04, -2.05121803e-04, -2.83112284e-04]],\n",
       "\n",
       "       [[-1.80896459e-04,  2.47294192e-05,  2.03897493e-04, ...,\n",
       "         -1.04676037e-04,  8.08490295e-05,  7.59679679e-05],\n",
       "        [ 7.16725253e-06,  3.49015208e-05,  1.74447414e-04, ...,\n",
       "          2.58441816e-07,  2.61394325e-05,  1.78573406e-04],\n",
       "        [ 2.81089102e-04,  5.77505998e-05,  4.45540674e-04, ...,\n",
       "         -2.26393691e-04,  5.62678215e-05,  5.29712452e-05],\n",
       "        ...,\n",
       "        [ 1.61307704e-04,  1.10106499e-04,  6.38166443e-04, ...,\n",
       "          4.56129637e-04, -8.48220137e-04,  6.88379456e-04],\n",
       "        [-7.37342853e-05,  2.67592812e-04,  5.29957295e-04, ...,\n",
       "          4.93269064e-04, -7.32584333e-04,  7.82963296e-04],\n",
       "        [-3.90894827e-04,  4.78975911e-04,  4.43610101e-04, ...,\n",
       "          6.93929207e-04, -5.41721936e-04,  8.12549144e-04]],\n",
       "\n",
       "       [[-1.80896459e-04,  2.47294192e-05,  2.03897493e-04, ...,\n",
       "         -1.04676037e-04,  8.08490295e-05,  7.59679679e-05],\n",
       "        [-1.03947663e-04,  1.77993468e-04,  2.80421780e-04, ...,\n",
       "         -4.22701378e-05,  1.48816180e-04, -2.10439139e-05],\n",
       "        [-4.45747464e-05,  3.22547974e-04,  3.60910373e-04, ...,\n",
       "         -3.32578522e-04,  8.68721836e-05,  8.12010840e-05],\n",
       "        ...,\n",
       "        [-2.06064992e-03,  2.62858393e-03, -3.84655759e-05, ...,\n",
       "          1.92768476e-03,  9.61442129e-04,  3.13772005e-04],\n",
       "        [-2.20972742e-03,  2.86040083e-03, -1.17886244e-04, ...,\n",
       "          2.15418870e-03,  1.04084995e-03,  2.71425582e-04],\n",
       "        [-2.33052974e-03,  3.07619059e-03, -1.98708105e-04, ...,\n",
       "          2.34281970e-03,  1.11260300e-03,  2.20076181e-04]],\n",
       "\n",
       "       ...,\n",
       "\n",
       "       [[-1.80896459e-04,  2.47294192e-05,  2.03897493e-04, ...,\n",
       "         -1.04676037e-04,  8.08490295e-05,  7.59679679e-05],\n",
       "        [-2.01984541e-04,  7.40885589e-05,  1.88477614e-04, ...,\n",
       "         -1.32517336e-04, -1.68619481e-05,  1.07431842e-04],\n",
       "        [-3.97371390e-04,  9.33049450e-05,  2.67472293e-04, ...,\n",
       "         -3.50223039e-04, -2.22516828e-04,  2.27912635e-04],\n",
       "        ...,\n",
       "        [-1.38705119e-03,  8.13702005e-04,  2.95938400e-04, ...,\n",
       "          3.79128673e-04,  3.54518634e-05,  4.34243790e-04],\n",
       "        [-1.67199527e-03,  1.07653590e-03,  3.36661236e-04, ...,\n",
       "          7.74007989e-04,  2.53028877e-04,  4.27198975e-04],\n",
       "        [-1.92973309e-03,  1.35945424e-03,  3.38012178e-04, ...,\n",
       "          1.16564217e-03,  4.41680924e-04,  4.23412625e-04]],\n",
       "\n",
       "       [[ 1.69396575e-04, -6.66618653e-05,  1.43313766e-04, ...,\n",
       "          5.41918344e-05,  6.85572959e-05,  4.77904396e-05],\n",
       "        [ 2.02598949e-05, -2.03507472e-04,  2.71048688e-04, ...,\n",
       "         -3.62271494e-05,  6.45991531e-05,  3.66177192e-05],\n",
       "        [-1.11148860e-04, -3.34726181e-04,  3.12894670e-04, ...,\n",
       "          1.05264538e-04, -5.78212021e-05,  1.27460953e-04],\n",
       "        ...,\n",
       "        [ 4.05166793e-04,  1.14257575e-03, -7.49009196e-04, ...,\n",
       "          1.62061967e-03, -7.71982828e-04,  1.52953586e-03],\n",
       "        [ 5.39035711e-04,  1.03728555e-03, -8.82274355e-04, ...,\n",
       "          1.54405111e-03, -8.41435976e-04,  1.37690920e-03],\n",
       "        [ 4.91153682e-04,  8.60721339e-04, -9.74602823e-04, ...,\n",
       "          1.49300962e-03, -9.17867234e-04,  1.19564589e-03]],\n",
       "\n",
       "       [[-1.80896459e-04,  2.47294192e-05,  2.03897493e-04, ...,\n",
       "         -1.04676037e-04,  8.08490295e-05,  7.59679679e-05],\n",
       "        [-2.81657762e-04, -4.27706084e-07,  3.18811799e-04, ...,\n",
       "         -1.95529108e-04,  6.93817201e-05,  1.96809444e-04],\n",
       "        [-5.11764840e-04, -1.70996253e-04,  2.12381841e-04, ...,\n",
       "         -1.86786099e-04,  1.60482130e-04,  1.48763502e-04],\n",
       "        ...,\n",
       "        [-1.16123422e-03,  5.59657172e-04,  4.59419185e-04, ...,\n",
       "          5.45179646e-04,  7.45615573e-04,  5.81506582e-04],\n",
       "        [-1.42698316e-03,  9.07219597e-04,  4.30602551e-04, ...,\n",
       "          9.55564319e-04,  8.59629305e-04,  5.77858300e-04],\n",
       "        [-1.67159457e-03,  1.25127344e-03,  3.84007348e-04, ...,\n",
       "          1.34651852e-03,  9.56961012e-04,  5.54968021e-04]]],\n",
       "      dtype=float32)>"
      ]
     },
     "execution_count": 11,
     "metadata": {},
     "output_type": "execute_result"
    }
   ],
   "source": [
    "for src_sample, tgt_sample in dataset.take(1): break\n",
    "model(src_sample)"
   ]
  },
  {
   "cell_type": "code",
   "execution_count": 12,
   "id": "bdb39e86",
   "metadata": {},
   "outputs": [
    {
     "name": "stdout",
     "output_type": "stream",
     "text": [
      "Model: \"text_generator\"\n",
      "_________________________________________________________________\n",
      "Layer (type)                 Output Shape              Param #   \n",
      "=================================================================\n",
      "embedding (Embedding)        multiple                  3840256   \n",
      "_________________________________________________________________\n",
      "lstm (LSTM)                  multiple                  18882560  \n",
      "_________________________________________________________________\n",
      "lstm_1 (LSTM)                multiple                  33562624  \n",
      "_________________________________________________________________\n",
      "dropout (Dropout)            multiple                  0         \n",
      "_________________________________________________________________\n",
      "dense (Dense)                multiple                  30737049  \n",
      "=================================================================\n",
      "Total params: 87,022,489\n",
      "Trainable params: 87,022,489\n",
      "Non-trainable params: 0\n",
      "_________________________________________________________________\n"
     ]
    }
   ],
   "source": [
    "model.summary()"
   ]
  },
  {
   "cell_type": "code",
   "execution_count": 13,
   "id": "7969c295",
   "metadata": {},
   "outputs": [
    {
     "name": "stdout",
     "output_type": "stream",
     "text": [
      "Epoch 1/10\n",
      "595/595 [==============================] - 293s 489ms/step - loss: 3.6525\n",
      "Epoch 2/10\n",
      "595/595 [==============================] - 296s 497ms/step - loss: 3.1075\n",
      "Epoch 3/10\n",
      "595/595 [==============================] - 296s 497ms/step - loss: 2.8651\n",
      "Epoch 4/10\n",
      "595/595 [==============================] - 296s 498ms/step - loss: 2.6544\n",
      "Epoch 5/10\n",
      "595/595 [==============================] - 297s 499ms/step - loss: 2.4582\n",
      "Epoch 6/10\n",
      "595/595 [==============================] - 297s 498ms/step - loss: 2.2765\n",
      "Epoch 7/10\n",
      "595/595 [==============================] - 297s 499ms/step - loss: 2.1093\n",
      "Epoch 8/10\n",
      "595/595 [==============================] - 297s 499ms/step - loss: 1.9589\n",
      "Epoch 9/10\n",
      "595/595 [==============================] - 297s 499ms/step - loss: 1.8229\n",
      "Epoch 10/10\n",
      "595/595 [==============================] - 297s 499ms/step - loss: 1.7015\n"
     ]
    },
    {
     "data": {
      "text/plain": [
       "<keras.callbacks.History at 0x7f74d02313a0>"
      ]
     },
     "execution_count": 13,
     "metadata": {},
     "output_type": "execute_result"
    }
   ],
   "source": [
    "optimizer = tf.keras.optimizers.Adam()\n",
    "loss = tf.keras.losses.SparseCategoricalCrossentropy(\n",
    "    from_logits=True,\n",
    "    reduction='none'\n",
    ")\n",
    "\n",
    "model.compile(loss=loss, optimizer=optimizer)\n",
    "model.fit(dataset, epochs=10)"
   ]
  },
  {
   "cell_type": "markdown",
   "id": "90d8cfed",
   "metadata": {},
   "source": [
    "6. 모델 평가하기"
   ]
  },
  {
   "cell_type": "code",
   "execution_count": 14,
   "id": "55f10134",
   "metadata": {},
   "outputs": [],
   "source": [
    "def generate_text(model, tokenizer, init_sentence=\"<start>\", max_len=20):\n",
    "    # 테스트를 위해서 입력받은 init_sentence도 텐서로 변환합니다\n",
    "    test_input = tokenizer.texts_to_sequences([init_sentence])\n",
    "    test_tensor = tf.convert_to_tensor(test_input, dtype=tf.int64)\n",
    "    end_token = tokenizer.word_index[\"<end>\"]\n",
    "\n",
    "    # 단어 하나씩 예측해 문장을 만듭니다\n",
    "    #    1. 입력받은 문장의 텐서를 입력합니다\n",
    "    #    2. 예측된 값 중 가장 높은 확률인 word index를 뽑아냅니다\n",
    "    #    3. 2에서 예측된 word index를 문장 뒤에 붙입니다\n",
    "    #    4. 모델이 <end>를 예측했거나, max_len에 도달했다면 문장 생성을 마칩니다\n",
    "    while True:\n",
    "        # 1\n",
    "        predict = model(test_tensor) \n",
    "        # 2\n",
    "        predict_word = tf.argmax(tf.nn.softmax(predict, axis=-1), axis=-1)[:, -1] \n",
    "        # 3 \n",
    "        test_tensor = tf.concat([test_tensor, tf.expand_dims(predict_word, axis=0)], axis=-1)\n",
    "        # 4\n",
    "        if predict_word.numpy()[0] == end_token: break\n",
    "        if test_tensor.shape[1] >= max_len: break\n",
    "\n",
    "    generated = \"\"\n",
    "    # tokenizer를 이용해 word index를 단어로 하나씩 변환합니다 \n",
    "    for word_index in test_tensor[0].numpy():\n",
    "        generated += tokenizer.index_word[word_index] + \" \"\n",
    "\n",
    "    return generated"
   ]
  },
  {
   "cell_type": "code",
   "execution_count": 15,
   "id": "d944c5d6",
   "metadata": {},
   "outputs": [
    {
     "data": {
      "text/plain": [
       "'<start> me and my homies , so drop that <end> '"
      ]
     },
     "execution_count": 15,
     "metadata": {},
     "output_type": "execute_result"
    }
   ],
   "source": [
    "generate_text(model, tokenizer, init_sentence=\"<start> me\")"
   ]
  },
  {
   "cell_type": "code",
   "execution_count": 16,
   "id": "0e125e34",
   "metadata": {},
   "outputs": [
    {
     "data": {
      "text/plain": [
       "'<start> yes , i am , yes i am . <end> '"
      ]
     },
     "execution_count": 16,
     "metadata": {},
     "output_type": "execute_result"
    }
   ],
   "source": [
    "generate_text(model, tokenizer, init_sentence=\"<start> yes\")"
   ]
  },
  {
   "cell_type": "code",
   "execution_count": 17,
   "id": "dda62e3f",
   "metadata": {},
   "outputs": [
    {
     "data": {
      "text/plain": [
       "'<start> my name is <end> '"
      ]
     },
     "execution_count": 17,
     "metadata": {},
     "output_type": "execute_result"
    }
   ],
   "source": [
    "generate_text(model, tokenizer, init_sentence=\"<start> my\")"
   ]
  },
  {
   "cell_type": "code",
   "execution_count": 18,
   "id": "d7eb41a3",
   "metadata": {},
   "outputs": [
    {
     "data": {
      "text/plain": [
       "'<start> you re the only one i want <end> '"
      ]
     },
     "execution_count": 18,
     "metadata": {},
     "output_type": "execute_result"
    }
   ],
   "source": [
    "generate_text(model, tokenizer, init_sentence=\"<start> you\")"
   ]
  },
  {
   "cell_type": "code",
   "execution_count": 19,
   "id": "9b0b21aa",
   "metadata": {},
   "outputs": [
    {
     "data": {
      "text/plain": [
       "'<start> hey , hey , hey <end> '"
      ]
     },
     "execution_count": 19,
     "metadata": {},
     "output_type": "execute_result"
    }
   ],
   "source": [
    "generate_text(model, tokenizer, init_sentence=\"<start> hey\")"
   ]
  },
  {
   "cell_type": "markdown",
   "id": "e46b1276",
   "metadata": {},
   "source": [
    "회고\n",
    "커널 연결이 계속 끊어져서 중단되어 다시 만드는 일이 반복되어 많은 시간이 소모되었다.\n",
    "그리고 epochs값을 30에서 10으로 하여 학습 시간을 줄였다. validation loss가  1.7이 나왔다.새롭고 신기한 문장을 만드니 즐거운 프로젝트였고 뜻깊은 시간이었습니다."
   ]
  }
 ],
 "metadata": {
  "kernelspec": {
   "display_name": "Python 3 (ipykernel)",
   "language": "python",
   "name": "python3"
  },
  "language_info": {
   "codemirror_mode": {
    "name": "ipython",
    "version": 3
   },
   "file_extension": ".py",
   "mimetype": "text/x-python",
   "name": "python",
   "nbconvert_exporter": "python",
   "pygments_lexer": "ipython3",
   "version": "3.9.7"
  }
 },
 "nbformat": 4,
 "nbformat_minor": 5
}
