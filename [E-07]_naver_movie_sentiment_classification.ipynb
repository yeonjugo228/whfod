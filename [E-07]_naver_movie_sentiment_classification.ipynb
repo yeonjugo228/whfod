{
 "cells": [
  {
   "cell_type": "code",
   "execution_count": 1,
   "id": "262b436b",
   "metadata": {},
   "outputs": [],
   "source": [
    "#네이버 영화리뷰 감성분석"
   ]
  },
  {
   "cell_type": "code",
   "execution_count": 2,
   "id": "ce5babc1",
   "metadata": {},
   "outputs": [],
   "source": [
    "#1.데이터 준비와 확인"
   ]
  },
  {
   "cell_type": "code",
   "execution_count": 4,
   "id": "399c8523",
   "metadata": {},
   "outputs": [
    {
     "data": {
      "text/html": [
       "<div>\n",
       "<style scoped>\n",
       "    .dataframe tbody tr th:only-of-type {\n",
       "        vertical-align: middle;\n",
       "    }\n",
       "\n",
       "    .dataframe tbody tr th {\n",
       "        vertical-align: top;\n",
       "    }\n",
       "\n",
       "    .dataframe thead th {\n",
       "        text-align: right;\n",
       "    }\n",
       "</style>\n",
       "<table border=\"1\" class=\"dataframe\">\n",
       "  <thead>\n",
       "    <tr style=\"text-align: right;\">\n",
       "      <th></th>\n",
       "      <th>id</th>\n",
       "      <th>document</th>\n",
       "      <th>label</th>\n",
       "    </tr>\n",
       "  </thead>\n",
       "  <tbody>\n",
       "    <tr>\n",
       "      <th>0</th>\n",
       "      <td>9976970</td>\n",
       "      <td>아 더빙.. 진짜 짜증나네요 목소리</td>\n",
       "      <td>0</td>\n",
       "    </tr>\n",
       "    <tr>\n",
       "      <th>1</th>\n",
       "      <td>3819312</td>\n",
       "      <td>흠...포스터보고 초딩영화줄....오버연기조차 가볍지 않구나</td>\n",
       "      <td>1</td>\n",
       "    </tr>\n",
       "    <tr>\n",
       "      <th>2</th>\n",
       "      <td>10265843</td>\n",
       "      <td>너무재밓었다그래서보는것을추천한다</td>\n",
       "      <td>0</td>\n",
       "    </tr>\n",
       "    <tr>\n",
       "      <th>3</th>\n",
       "      <td>9045019</td>\n",
       "      <td>교도소 이야기구먼 ..솔직히 재미는 없다..평점 조정</td>\n",
       "      <td>0</td>\n",
       "    </tr>\n",
       "    <tr>\n",
       "      <th>4</th>\n",
       "      <td>6483659</td>\n",
       "      <td>사이몬페그의 익살스런 연기가 돋보였던 영화!스파이더맨에서 늙어보이기만 했던 커스틴 ...</td>\n",
       "      <td>1</td>\n",
       "    </tr>\n",
       "  </tbody>\n",
       "</table>\n",
       "</div>"
      ],
      "text/plain": [
       "         id                                           document  label\n",
       "0   9976970                                아 더빙.. 진짜 짜증나네요 목소리      0\n",
       "1   3819312                  흠...포스터보고 초딩영화줄....오버연기조차 가볍지 않구나      1\n",
       "2  10265843                                  너무재밓었다그래서보는것을추천한다      0\n",
       "3   9045019                      교도소 이야기구먼 ..솔직히 재미는 없다..평점 조정      0\n",
       "4   6483659  사이몬페그의 익살스런 연기가 돋보였던 영화!스파이더맨에서 늙어보이기만 했던 커스틴 ...      1"
      ]
     },
     "execution_count": 4,
     "metadata": {},
     "output_type": "execute_result"
    }
   ],
   "source": [
    "import pandas as pd\n",
    "import numpy as np\n",
    "import tensorflow as tf\n",
    "from tensorflow import keras\n",
    "from tensorflow.keras.preprocessing.text import Tokenizer\n",
    "from tensorflow.keras.preprocessing.sequence import pad_sequences\n",
    "import os\n",
    "import re\n",
    "import matplotlib.pyplot as plt\n",
    "\n",
    "# 데이터를 읽어봅시다. \n",
    "train_data = pd.read_table('~/aiffel/sentiment_classification/data/ratings_train.txt')\n",
    "test_data = pd.read_table('~/aiffel/sentiment_classification/data/ratings_test.txt')\n",
    "\n",
    "train_data.head()"
   ]
  },
  {
   "cell_type": "code",
   "execution_count": 5,
   "id": "47adbcfc",
   "metadata": {},
   "outputs": [],
   "source": [
    "#2. 데이터로더 구성"
   ]
  },
  {
   "cell_type": "code",
   "execution_count": 6,
   "id": "385a3707",
   "metadata": {},
   "outputs": [],
   "source": [
    "#nsmc 데이터셋의 텍스트를 가공하여 data_loader를 만들기."
   ]
  },
  {
   "cell_type": "markdown",
   "id": "b21aabde",
   "metadata": {},
   "source": [
    "1)데이터의 중복 제거\n",
    "2)NaN 결측치 제거\n",
    "3)한국어 토크나이저로 토큰화\n",
    "4)불용어(Stopwords) 제거\n",
    "5)사전word_to_index 구성\n",
    "6)텍스트 스트링을 사전 인덱스 스트링으로 변환\n",
    "7)X_train, y_train, X_test, y_test, word_to_index 리턴#"
   ]
  },
  {
   "cell_type": "code",
   "execution_count": 8,
   "id": "785e360b",
   "metadata": {},
   "outputs": [],
   "source": [
    "from konlpy.tag import Mecab\n",
    "from collections import Counter\n",
    "\n",
    "tokenizer = Mecab()\n",
    "stopwords = ['의','가','이','은','들','는','좀','잘','걍','과','도','를','으로','자','에','와','한','하다']\n",
    "\n",
    "def load_data(train_data, test_data, num_words=10000):\n",
    "    train_data.drop_duplicates(subset=['document'], inplace=True) # 중복 제거\n",
    "    train_data = train_data.dropna(how = 'any') \n",
    "    test_data.drop_duplicates(subset=['document'], inplace=True) # 중복 제거\n",
    "    test_data = test_data.dropna(how = 'any') \n",
    "    \n",
    "    X_train = []\n",
    "    for sentence in train_data['document']:\n",
    "        temp_X = tokenizer.morphs(sentence) # 토큰화\n",
    "        temp_X = [word for word in temp_X if not word in stopwords] # 불용어 제거\n",
    "        X_train.append(temp_X)\n",
    "\n",
    "    X_test = []\n",
    "    for sentence in test_data['document']:\n",
    "        temp_X = tokenizer.morphs(sentence) # 토큰화\n",
    "        temp_X = [word for word in temp_X if not word in stopwords] # 불용어 제거\n",
    "        X_test.append(temp_X)\n",
    "    \n",
    "    words = np.concatenate(X_train).tolist()\n",
    "    counter = Counter(words)\n",
    "    counter = counter.most_common(10000-4)\n",
    "    vocab = ['<PAD>', '<BOS>', '<UNK>', '<UNUSED>'] + [key for key, _ in counter]\n",
    "    word_to_index = {word:index for index, word in enumerate(vocab)}\n",
    "        \n",
    "    def wordlist_to_indexlist(wordlist):\n",
    "        return [word_to_index[word] if word in word_to_index else word_to_index['<UNK>'] for word in wordlist]\n",
    "        \n",
    "    X_train = list(map(wordlist_to_indexlist, X_train))\n",
    "    X_test = list(map(wordlist_to_indexlist, X_test))\n",
    "        \n",
    "    return X_train, np.array(list(train_data['label'])), X_test, np.array(list(test_data['label'])), word_to_index\n",
    "    \n",
    "X_train, y_train, X_test, y_test, word_to_index = load_data(train_data, test_data) "
   ]
  },
  {
   "cell_type": "code",
   "execution_count": 11,
   "id": "446dc1c2",
   "metadata": {},
   "outputs": [
    {
     "name": "stdout",
     "output_type": "stream",
     "text": [
      "train data 개수: 146182, test data 개수: 49157\n"
     ]
    }
   ],
   "source": [
    "X_train, y_train, X_test, y_test, word_to_index = load_data(train_data, test_data) \n",
    "print(f'train data 개수: {len(X_train)}, test data 개수: {len(X_test)}')"
   ]
  },
  {
   "cell_type": "code",
   "execution_count": 12,
   "id": "b71f99c5",
   "metadata": {},
   "outputs": [],
   "source": [
    "index_to_word = {index:word for word, index in word_to_index.items()}"
   ]
  },
  {
   "cell_type": "code",
   "execution_count": 13,
   "id": "123c8e10",
   "metadata": {},
   "outputs": [],
   "source": [
    "# 문장 1개를 활용할 딕셔너리와 함께 주면, 단어 인덱스 리스트 벡터로 변환해 주는 함수\n",
    "# 단, 모든 문장은 <BOS>로 시작\n",
    "def get_encoded_sentence(sentence, word_to_index): \n",
    "    return [word_to_index['<BOS>']]+[word_to_index[word] if word in word_to_index else word_to_index['<UNK>'] for word in sentence.split()]\n",
    "\n",
    "# 여러 개의 문장 리스트를 한꺼번에 단어 인덱스 리스트 벡터로 encode해 주는 함수 \n",
    "def get_encoded_sentences(sentences, word_to_index):\n",
    "    return [get_encoded_sentence(sentence, word_to_index) for sentence in sentences]\n",
    "\n",
    "# 숫자 벡터로 encode된 문장을 원래대로 decode하는 함수 \n",
    "def get_decoded_sentence(encoded_sentence, index_to_word):\n",
    "    return ' '.join(index_to_word[index] if index in index_to_word else '<UNK>' for index in encoded_sentence[1:])  #[1:]를 통해 <BOS>를 제외\n",
    "\n",
    "# 여러 개의 숫자 벡터로 encode된 문장을 한꺼번에 원래대로 decode하는 함수. \n",
    "def get_decoded_sentences(encoded_sentences, index_to_word):\n",
    "    return [get_decoded_sentence(encoded_sentence, index_to_word) for encoded_sentence in encoded_sentences]"
   ]
  },
  {
   "cell_type": "code",
   "execution_count": 14,
   "id": "37bd9c4c",
   "metadata": {},
   "outputs": [
    {
     "name": "stdout",
     "output_type": "stream",
     "text": [
      "문장길이 평균 :  15.96940191154864\n",
      "문장길이 최대 :  116\n",
      "문장길이 표준편차 :  12.843571191092\n",
      "pad_sequences maxlen :  41\n",
      "전체 문장의 0.9342988343341575%가 maxlen 설정값 이내에 포함됩니다. \n"
     ]
    }
   ],
   "source": [
    "total_data_text = list(X_train) + list(X_test)\n",
    "# 텍스트데이터 문장길이의 리스트를 생성한 후\n",
    "num_tokens = [len(tokens) for tokens in total_data_text]\n",
    "num_tokens = np.array(num_tokens)\n",
    "# 문장길이의 평균값, 최대값, 표준편차를 계산해 본다. \n",
    "print('문장길이 평균 : ', np.mean(num_tokens))\n",
    "print('문장길이 최대 : ', np.max(num_tokens))\n",
    "print('문장길이 표준편차 : ', np.std(num_tokens))\n",
    "\n",
    "# 예를들어, 최대 길이를 (평균 + 2*표준편차)로 한다면,  \n",
    "max_tokens = np.mean(num_tokens) + 2 * np.std(num_tokens)\n",
    "maxlen = int(max_tokens)\n",
    "print('pad_sequences maxlen : ', maxlen)\n",
    "print('전체 문장의 {}%가 maxlen 설정값 이내에 포함됩니다. '.format(np.sum(num_tokens < max_tokens) / len(num_tokens)))"
   ]
  },
  {
   "cell_type": "code",
   "execution_count": 15,
   "id": "875d735d",
   "metadata": {},
   "outputs": [
    {
     "name": "stdout",
     "output_type": "stream",
     "text": [
      "(146182, 41)\n"
     ]
    }
   ],
   "source": [
    "X_train_post = tf.keras.preprocessing.sequence.pad_sequences(X_train,\n",
    "                                                        value=word_to_index[\"<PAD>\"],\n",
    "                                                        padding='post', # 혹은 'pre'\n",
    "                                                        maxlen=maxlen)\n",
    "\n",
    "X_test_post = tf.keras.preprocessing.sequence.pad_sequences(X_test,\n",
    "                                                       value=word_to_index[\"<PAD>\"],\n",
    "                                                       padding='post', # 혹은 'pre'\n",
    "                                                       maxlen=maxlen)\n",
    "\n",
    "print(X_train_post.shape)"
   ]
  },
  {
   "cell_type": "code",
   "execution_count": 16,
   "id": "7bde5428",
   "metadata": {},
   "outputs": [
    {
     "name": "stdout",
     "output_type": "stream",
     "text": [
      "(146182, 41)\n"
     ]
    }
   ],
   "source": [
    "X_train_pre = tf.keras.preprocessing.sequence.pad_sequences(X_train,\n",
    "                                                        value=word_to_index[\"<PAD>\"],\n",
    "                                                        padding='pre', \n",
    "                                                        maxlen=maxlen)\n",
    "\n",
    "X_test_pre = tf.keras.preprocessing.sequence.pad_sequences(X_test,\n",
    "                                                       value=word_to_index[\"<PAD>\"],\n",
    "                                                       padding='pre', \n",
    "                                                       maxlen=maxlen)\n",
    "\n",
    "print(X_train_pre.shape)"
   ]
  },
  {
   "cell_type": "code",
   "execution_count": null,
   "id": "6476e86c",
   "metadata": {},
   "outputs": [],
   "source": [
    "#4. 모델 구성 및 validation set 구성"
   ]
  },
  {
   "cell_type": "code",
   "execution_count": null,
   "id": "3f0a16a8",
   "metadata": {},
   "outputs": [],
   "source": [
    "#a. RNN 모델 (Recurrent Neural Network)"
   ]
  },
  {
   "cell_type": "code",
   "execution_count": 17,
   "id": "5ba66bcc",
   "metadata": {},
   "outputs": [
    {
     "name": "stdout",
     "output_type": "stream",
     "text": [
      "Model: \"sequential\"\n",
      "_________________________________________________________________\n",
      "Layer (type)                 Output Shape              Param #   \n",
      "=================================================================\n",
      "embedding (Embedding)        (None, None, 16)          160000    \n",
      "_________________________________________________________________\n",
      "lstm (LSTM)                  (None, 8)                 800       \n",
      "_________________________________________________________________\n",
      "dense (Dense)                (None, 8)                 72        \n",
      "_________________________________________________________________\n",
      "dense_1 (Dense)              (None, 1)                 9         \n",
      "=================================================================\n",
      "Total params: 160,881\n",
      "Trainable params: 160,881\n",
      "Non-trainable params: 0\n",
      "_________________________________________________________________\n"
     ]
    }
   ],
   "source": [
    "vocab_size = 10000    # 어휘 사전의 크기입니다(10,000개의 단어)\n",
    "word_vector_dim = 16  # 워드 벡터의 차원 수 (변경 가능한 하이퍼파라미터)\n",
    "\n",
    "# model 설계\n",
    "model_rnn = tf.keras.Sequential()\n",
    "model_rnn.add(tf.keras.layers.Embedding(vocab_size, word_vector_dim, input_shape=(None,)))\n",
    "model_rnn.add(tf.keras.layers.LSTM(8))   # 가장 널리 쓰이는 RNN인 LSTM 레이어를 사용. 이때 LSTM state 벡터의 차원수는 8. (변경 가능)\n",
    "model_rnn.add(tf.keras.layers.Dense(8, activation='relu'))\n",
    "model_rnn.add(tf.keras.layers.Dense(1, activation='sigmoid'))  # 최종 출력은 긍정/부정을 나타내는 1dim \n",
    "\n",
    "model_rnn.summary()"
   ]
  },
  {
   "cell_type": "code",
   "execution_count": null,
   "id": "931d9a9e",
   "metadata": {},
   "outputs": [],
   "source": [
    "#b. CNN 모델"
   ]
  },
  {
   "cell_type": "code",
   "execution_count": 18,
   "id": "c4a90855",
   "metadata": {},
   "outputs": [
    {
     "name": "stdout",
     "output_type": "stream",
     "text": [
      "Model: \"sequential_1\"\n",
      "_________________________________________________________________\n",
      "Layer (type)                 Output Shape              Param #   \n",
      "=================================================================\n",
      "embedding_1 (Embedding)      (None, None, 16)          160000    \n",
      "_________________________________________________________________\n",
      "conv1d (Conv1D)              (None, None, 16)          1808      \n",
      "_________________________________________________________________\n",
      "max_pooling1d (MaxPooling1D) (None, None, 16)          0         \n",
      "_________________________________________________________________\n",
      "conv1d_1 (Conv1D)            (None, None, 16)          1808      \n",
      "_________________________________________________________________\n",
      "global_max_pooling1d (Global (None, 16)                0         \n",
      "_________________________________________________________________\n",
      "dense_2 (Dense)              (None, 8)                 136       \n",
      "_________________________________________________________________\n",
      "dense_3 (Dense)              (None, 1)                 9         \n",
      "=================================================================\n",
      "Total params: 163,761\n",
      "Trainable params: 163,761\n",
      "Non-trainable params: 0\n",
      "_________________________________________________________________\n"
     ]
    }
   ],
   "source": [
    "vocab_size = 10000  # 어휘 사전의 크기(10000개의 단어)\n",
    "word_vector_dim = 16   # 단어 하나를 표현하는 임베딩 벡터의 차원 수. \n",
    "\n",
    "model_cnn = tf.keras.Sequential()\n",
    "model_cnn.add(tf.keras.layers.Embedding(vocab_size, word_vector_dim, input_shape=(None,)))\n",
    "model_cnn.add(tf.keras.layers.Conv1D(16, 7, activation='relu'))\n",
    "model_cnn.add(tf.keras.layers.MaxPooling1D(5))\n",
    "model_cnn.add(tf.keras.layers.Conv1D(16, 7, activation='relu'))\n",
    "model_cnn.add(tf.keras.layers.GlobalMaxPooling1D())\n",
    "model_cnn.add(tf.keras.layers.Dense(8, activation='relu'))\n",
    "model_cnn.add(tf.keras.layers.Dense(1, activation='sigmoid'))  # 최종 출력은 긍정/부정을 나타내는 1dim .\n",
    "\n",
    "model_cnn.summary()"
   ]
  },
  {
   "cell_type": "code",
   "execution_count": null,
   "id": "3d2edd82",
   "metadata": {},
   "outputs": [],
   "source": [
    "#c. GlobalMaxPooling1D() 레이어"
   ]
  },
  {
   "cell_type": "code",
   "execution_count": 19,
   "id": "c634d436",
   "metadata": {},
   "outputs": [
    {
     "name": "stdout",
     "output_type": "stream",
     "text": [
      "Model: \"sequential_2\"\n",
      "_________________________________________________________________\n",
      "Layer (type)                 Output Shape              Param #   \n",
      "=================================================================\n",
      "embedding_2 (Embedding)      (None, None, 16)          160000    \n",
      "_________________________________________________________________\n",
      "global_max_pooling1d_1 (Glob (None, 16)                0         \n",
      "_________________________________________________________________\n",
      "dense_4 (Dense)              (None, 8)                 136       \n",
      "_________________________________________________________________\n",
      "dense_5 (Dense)              (None, 1)                 9         \n",
      "=================================================================\n",
      "Total params: 160,145\n",
      "Trainable params: 160,145\n",
      "Non-trainable params: 0\n",
      "_________________________________________________________________\n"
     ]
    }
   ],
   "source": [
    "# GlobalMaxPooling1D() 레이어 하나만 사용하여 모델 설계\n",
    "vocab_size = 10000  # 어휘 사전의 크기(10000개의 단어)\n",
    "word_vector_dim = 16   # 단어 하나를 표현하는 임베딩 벡터의 차원 수 \n",
    "\n",
    "model_glob = tf.keras.Sequential()\n",
    "model_glob.add(tf.keras.layers.Embedding(vocab_size, word_vector_dim, input_shape=(None,)))\n",
    "model_glob.add(tf.keras.layers.GlobalMaxPooling1D())\n",
    "model_glob.add(tf.keras.layers.Dense(8, activation='relu'))\n",
    "model_glob.add(tf.keras.layers.Dense(1, activation='sigmoid'))  # 최종 출력은 긍정/부정을 나타내는 1dim .\n",
    "\n",
    "model_glob.summary()"
   ]
  },
  {
   "cell_type": "code",
   "execution_count": null,
   "id": "df7407a8",
   "metadata": {},
   "outputs": [],
   "source": [
    "#validation set 구성"
   ]
  },
  {
   "cell_type": "code",
   "execution_count": 20,
   "id": "767936f0",
   "metadata": {},
   "outputs": [
    {
     "name": "stdout",
     "output_type": "stream",
     "text": [
      "(10000, 41)\n",
      "(10000,)\n",
      "(136182, 41)\n",
      "(136182,)\n"
     ]
    }
   ],
   "source": [
    "# 훈련용 데이터셋 146182건 중 10000건을 분리하여 검증셋(validation set)으로 사용\n",
    "X_val = X_train_pre[:10000]   \n",
    "y_val = y_train[:10000]\n",
    "\n",
    "# validation set을 제외한 나머지 \n",
    "partial_X_train = X_train_pre[10000:]  \n",
    "partial_y_train = y_train[10000:]\n",
    "\n",
    "print(X_val.shape)\n",
    "print(y_val.shape)\n",
    "print(partial_X_train.shape)\n",
    "print(partial_y_train.shape)"
   ]
  },
  {
   "cell_type": "code",
   "execution_count": null,
   "id": "4a0fd178",
   "metadata": {},
   "outputs": [],
   "source": [
    "#5. 모델 훈련 및 그래프"
   ]
  },
  {
   "cell_type": "code",
   "execution_count": null,
   "id": "c25bf688",
   "metadata": {},
   "outputs": [],
   "source": [
    "#a-1 RNN 모델 훈련"
   ]
  },
  {
   "cell_type": "code",
   "execution_count": 21,
   "id": "bbf7c7d1",
   "metadata": {},
   "outputs": [
    {
     "name": "stdout",
     "output_type": "stream",
     "text": [
      "Epoch 1/10\n",
      "266/266 [==============================] - 22s 7ms/step - loss: 0.4834 - accuracy: 0.7754 - val_loss: 0.3517 - val_accuracy: 0.8502\n",
      "Epoch 2/10\n",
      "266/266 [==============================] - 1s 5ms/step - loss: 0.3345 - accuracy: 0.8590 - val_loss: 0.3381 - val_accuracy: 0.8529\n",
      "Epoch 3/10\n",
      "266/266 [==============================] - 1s 5ms/step - loss: 0.3150 - accuracy: 0.8686 - val_loss: 0.3378 - val_accuracy: 0.8519\n",
      "Epoch 4/10\n",
      "266/266 [==============================] - 1s 5ms/step - loss: 0.3016 - accuracy: 0.8752 - val_loss: 0.3375 - val_accuracy: 0.8534\n",
      "Epoch 5/10\n",
      "266/266 [==============================] - 1s 5ms/step - loss: 0.2901 - accuracy: 0.8804 - val_loss: 0.3412 - val_accuracy: 0.8521\n",
      "Epoch 6/10\n",
      "266/266 [==============================] - 1s 5ms/step - loss: 0.2790 - accuracy: 0.8859 - val_loss: 0.3428 - val_accuracy: 0.8552\n",
      "Epoch 7/10\n",
      "266/266 [==============================] - 1s 5ms/step - loss: 0.2692 - accuracy: 0.8915 - val_loss: 0.3490 - val_accuracy: 0.8529\n",
      "Epoch 8/10\n",
      "266/266 [==============================] - 1s 5ms/step - loss: 0.2593 - accuracy: 0.8953 - val_loss: 0.3477 - val_accuracy: 0.8555\n",
      "Epoch 9/10\n",
      "266/266 [==============================] - 1s 5ms/step - loss: 0.2472 - accuracy: 0.9014 - val_loss: 0.3532 - val_accuracy: 0.8535\n",
      "Epoch 10/10\n",
      "266/266 [==============================] - 1s 5ms/step - loss: 0.2369 - accuracy: 0.9061 - val_loss: 0.3670 - val_accuracy: 0.8525\n"
     ]
    }
   ],
   "source": [
    "# 모델 학습\n",
    "model_rnn.compile(optimizer='adam',\n",
    "              loss='binary_crossentropy',\n",
    "              metrics=['accuracy'])\n",
    "              \n",
    "epochs=10  # 몇 epoch를 훈련하면 좋을지 결과를 보면서 바꾸어 봅시다. \n",
    "\n",
    "history_rnn = model_rnn.fit(partial_X_train,\n",
    "                    partial_y_train,\n",
    "                    epochs=epochs,\n",
    "                    batch_size=512,\n",
    "                    validation_data=(X_val, y_val),\n",
    "                    verbose=1)"
   ]
  },
  {
   "cell_type": "code",
   "execution_count": null,
   "id": "cd701f30",
   "metadata": {},
   "outputs": [],
   "source": [
    "#a-2 RNN 모델 Loss, Accuracy 그래프 시각화"
   ]
  },
  {
   "cell_type": "code",
   "execution_count": 22,
   "id": "16eae07d",
   "metadata": {},
   "outputs": [
    {
     "data": {
      "image/png": "[encoded data removed]",
      "text/plain": [
       "<Figure size 432x288 with 1 Axes>"
      ]
     },
     "metadata": {
      "needs_background": "light"
     },
     "output_type": "display_data"
    }
   ],
   "source": [
    "history_rnn_dict = history_rnn.history\n",
    "\n",
    "# Training and validation loss 그래프 그리기\n",
    "acc = history_rnn_dict['accuracy']\n",
    "val_acc = history_rnn_dict['val_accuracy']\n",
    "loss = history_rnn_dict['loss']\n",
    "val_loss = history_rnn_dict['val_loss']\n",
    "\n",
    "epochs = range(1, len(acc) + 1)\n",
    "\n",
    "# \"bo\"는 \"파란색 점\"입니다\n",
    "plt.plot(epochs, loss, 'bo', label='Training loss')\n",
    "# b는 \"파란 실선\"입니다\n",
    "plt.plot(epochs, val_loss, 'b', label='Validation loss')\n",
    "plt.title('Training and validation loss')\n",
    "plt.xlabel('Epochs')\n",
    "plt.ylabel('Loss')\n",
    "plt.legend()\n",
    "\n",
    "plt.show()"
   ]
  },
  {
   "cell_type": "code",
   "execution_count": 23,
   "id": "4401feb7",
   "metadata": {},
   "outputs": [
    {
     "data": {
      "image/png": "[encoded data removed]",
      "text/plain": [
       "<Figure size 432x288 with 1 Axes>"
      ]
     },
     "metadata": {
      "needs_background": "light"
     },
     "output_type": "display_data"
    }
   ],
   "source": [
    "# Training and validation accuracy 그래프 그리기\n",
    "plt.clf()   # 그림을 초기화합니다\n",
    "\n",
    "plt.plot(epochs, acc, 'bo', label='Training acc')\n",
    "plt.plot(epochs, val_acc, 'b', label='Validation acc')\n",
    "plt.title('Training and validation accuracy')\n",
    "plt.xlabel('Epochs')\n",
    "plt.ylabel('Accuracy')\n",
    "plt.legend()\n",
    "\n",
    "plt.show()"
   ]
  },
  {
   "cell_type": "code",
   "execution_count": null,
   "id": "052810ea",
   "metadata": {},
   "outputs": [],
   "source": [
    "a-3 RNN 모델의 test set 으로 평가"
   ]
  },
  {
   "cell_type": "code",
   "execution_count": 24,
   "id": "61692b3f",
   "metadata": {},
   "outputs": [
    {
     "name": "stdout",
     "output_type": "stream",
     "text": [
      "1537/1537 - 3s - loss: 0.3759 - accuracy: 0.8461\n",
      "[0.3758605122566223, 0.8461053371429443]\n"
     ]
    }
   ],
   "source": [
    "results = model_rnn.evaluate(X_test_pre,  y_test, verbose=2)\n",
    "\n",
    "print(results)"
   ]
  },
  {
   "cell_type": "code",
   "execution_count": null,
   "id": "8a3a8941",
   "metadata": {},
   "outputs": [],
   "source": [
    "#b-1 CNN 모델 훈련"
   ]
  },
  {
   "cell_type": "code",
   "execution_count": 26,
   "id": "fc56e6e4",
   "metadata": {},
   "outputs": [
    {
     "name": "stdout",
     "output_type": "stream",
     "text": [
      "Epoch 1/5\n",
      "266/266 [==============================] - 1s 6ms/step - loss: 0.1868 - accuracy: 0.9287 - val_loss: 0.4375 - val_accuracy: 0.8439\n",
      "Epoch 2/5\n",
      "266/266 [==============================] - 1s 5ms/step - loss: 0.1814 - accuracy: 0.9307 - val_loss: 0.4500 - val_accuracy: 0.8446\n",
      "Epoch 3/5\n",
      "266/266 [==============================] - 1s 5ms/step - loss: 0.1757 - accuracy: 0.9331 - val_loss: 0.4601 - val_accuracy: 0.8461\n",
      "Epoch 4/5\n",
      "266/266 [==============================] - 1s 5ms/step - loss: 0.1686 - accuracy: 0.9361 - val_loss: 0.4941 - val_accuracy: 0.8418\n",
      "Epoch 5/5\n",
      "266/266 [==============================] - 1s 5ms/step - loss: 0.1628 - accuracy: 0.9388 - val_loss: 0.4949 - val_accuracy: 0.8401\n"
     ]
    }
   ],
   "source": [
    "# 모델 학습\n",
    "model_cnn.compile(optimizer='adam',\n",
    "              loss='binary_crossentropy',\n",
    "              metrics=['accuracy'])\n",
    "              \n",
    "epochs=5  # 몇 epoch를 훈련하면 좋을지 결과를 보면서 바꾸어 봅시다. \n",
    "\n",
    "history_cnn = model_rnn.fit(partial_X_train,\n",
    "                    partial_y_train,\n",
    "                    epochs=epochs,\n",
    "                    batch_size=512,\n",
    "                    validation_data=(X_val, y_val),\n",
    "                    verbose=1)"
   ]
  },
  {
   "cell_type": "code",
   "execution_count": null,
   "id": "2e96e74e",
   "metadata": {},
   "outputs": [],
   "source": [
    "b-2 CNN 모델 Loss, Accuracy 그래프 시각화"
   ]
  },
  {
   "cell_type": "code",
   "execution_count": 27,
   "id": "b827e9b4",
   "metadata": {},
   "outputs": [
    {
     "data": {
      "image/png": "[encoded data removed]",
      "text/plain": [
       "<Figure size 432x288 with 1 Axes>"
      ]
     },
     "metadata": {
      "needs_background": "light"
     },
     "output_type": "display_data"
    }
   ],
   "source": [
    "history_cnn_dict = history_cnn.history\n",
    "\n",
    "# Training and validation loss 그래프 그리기\n",
    "acc = history_cnn_dict['accuracy']\n",
    "val_acc = history_cnn_dict['val_accuracy']\n",
    "loss = history_cnn_dict['loss']\n",
    "val_loss = history_cnn_dict['val_loss']\n",
    "\n",
    "epochs = range(1, len(acc) + 1)\n",
    "\n",
    "# \"bo\"는 \"파란색 점\"입니다\n",
    "plt.plot(epochs, loss, 'bo', label='Training loss')\n",
    "# b는 \"파란 실선\"입니다\n",
    "plt.plot(epochs, val_loss, 'b', label='Validation loss')\n",
    "plt.title('Training and validation loss')\n",
    "plt.xlabel('Epochs')\n",
    "plt.ylabel('Loss')\n",
    "plt.legend()\n",
    "\n",
    "plt.show()"
   ]
  },
  {
   "cell_type": "code",
   "execution_count": 28,
   "id": "446f52f3",
   "metadata": {},
   "outputs": [
    {
     "data": {
      "image/png": "[encoded data removed]",
      "text/plain": [
       "<Figure size 432x288 with 1 Axes>"
      ]
     },
     "metadata": {
      "needs_background": "light"
     },
     "output_type": "display_data"
    }
   ],
   "source": [
    "# Training and validation accuracy 그래프 그리기\n",
    "plt.clf()   # 그림을 초기화합니다\n",
    "\n",
    "plt.plot(epochs, acc, 'bo', label='Training acc')\n",
    "plt.plot(epochs, val_acc, 'b', label='Validation acc')\n",
    "plt.title('Training and validation accuracy')\n",
    "plt.xlabel('Epochs')\n",
    "plt.ylabel('Accuracy')\n",
    "plt.legend()\n",
    "\n",
    "plt.show()"
   ]
  },
  {
   "cell_type": "code",
   "execution_count": null,
   "id": "3f7adc46",
   "metadata": {},
   "outputs": [],
   "source": [
    "#b-3 CNN 모델의 test set 으로 평가"
   ]
  },
  {
   "cell_type": "code",
   "execution_count": 29,
   "id": "5d44ee5d",
   "metadata": {},
   "outputs": [
    {
     "name": "stdout",
     "output_type": "stream",
     "text": [
      "1537/1537 - 11s - loss: 0.6931 - accuracy: 0.4968\n",
      "[0.6931374073028564, 0.49679598212242126]\n"
     ]
    }
   ],
   "source": [
    "results = model_cnn.evaluate(X_test_pre,  y_test, verbose=2)\n",
    "\n",
    "print(results)"
   ]
  },
  {
   "cell_type": "code",
   "execution_count": null,
   "id": "68206e1c",
   "metadata": {},
   "outputs": [],
   "source": [
    "c-1 GlobalMaxPooling1D() 레이어 모델 훈련"
   ]
  },
  {
   "cell_type": "code",
   "execution_count": 30,
   "id": "de5c904f",
   "metadata": {},
   "outputs": [
    {
     "name": "stdout",
     "output_type": "stream",
     "text": [
      "Epoch 1/5\n",
      "266/266 [==============================] - 2s 6ms/step - loss: 0.1583 - accuracy: 0.9404 - val_loss: 0.5359 - val_accuracy: 0.8412\n",
      "Epoch 2/5\n",
      "266/266 [==============================] - 1s 5ms/step - loss: 0.1522 - accuracy: 0.9434 - val_loss: 0.5120 - val_accuracy: 0.8402\n",
      "Epoch 3/5\n",
      "266/266 [==============================] - 1s 6ms/step - loss: 0.1490 - accuracy: 0.9445 - val_loss: 0.5341 - val_accuracy: 0.8403\n",
      "Epoch 4/5\n",
      "266/266 [==============================] - 1s 5ms/step - loss: 0.1451 - accuracy: 0.9462 - val_loss: 0.5781 - val_accuracy: 0.8340\n",
      "Epoch 5/5\n",
      "266/266 [==============================] - 1s 5ms/step - loss: 0.1403 - accuracy: 0.9479 - val_loss: 0.5940 - val_accuracy: 0.8395\n"
     ]
    }
   ],
   "source": [
    "# 모델 학습\n",
    "model_glob.compile(optimizer='adam',\n",
    "              loss='binary_crossentropy',\n",
    "              metrics=['accuracy'])\n",
    "              \n",
    "epochs=5  # 몇 epoch를 훈련하면 좋을지 결과를 보면서 바꾸어 봅시다. \n",
    "\n",
    "history_glob = model_rnn.fit(partial_X_train,\n",
    "                    partial_y_train,\n",
    "                    epochs=epochs,\n",
    "                    batch_size=512,\n",
    "                    validation_data=(X_val, y_val),\n",
    "                    verbose=1)"
   ]
  },
  {
   "cell_type": "code",
   "execution_count": null,
   "id": "b6f29d0b",
   "metadata": {},
   "outputs": [],
   "source": [
    "c-2 GlobalMaxPooling1D() 레이어 모델 Loss, Accuracy 그래프 시각화"
   ]
  },
  {
   "cell_type": "code",
   "execution_count": 31,
   "id": "0e9cd29d",
   "metadata": {},
   "outputs": [
    {
     "data": {
      "image/png": "[encoded data removed]",
      "text/plain": [
       "<Figure size 432x288 with 1 Axes>"
      ]
     },
     "metadata": {
      "needs_background": "light"
     },
     "output_type": "display_data"
    }
   ],
   "source": [
    "history_glob_dict = history_glob.history\n",
    "\n",
    "# Training and validation loss 그래프 그리기\n",
    "acc = history_glob_dict['accuracy']\n",
    "val_acc = history_glob_dict['val_accuracy']\n",
    "loss = history_glob_dict['loss']\n",
    "val_loss = history_glob_dict['val_loss']\n",
    "\n",
    "epochs = range(1, len(acc) + 1)\n",
    "\n",
    "# \"bo\"는 \"파란색 점\"입니다\n",
    "plt.plot(epochs, loss, 'bo', label='Training loss')\n",
    "# b는 \"파란 실선\"입니다\n",
    "plt.plot(epochs, val_loss, 'b', label='Validation loss')\n",
    "plt.title('Training and validation loss')\n",
    "plt.xlabel('Epochs')\n",
    "plt.ylabel('Loss')\n",
    "plt.legend()\n",
    "\n",
    "plt.show()"
   ]
  },
  {
   "cell_type": "code",
   "execution_count": null,
   "id": "e01da3ed",
   "metadata": {},
   "outputs": [],
   "source": []
  },
  {
   "cell_type": "code",
   "execution_count": 32,
   "id": "4b0d425c",
   "metadata": {},
   "outputs": [
    {
     "data": {
      "image/png": "[encoded data removed]",
      "text/plain": [
       "<Figure size 432x288 with 1 Axes>"
      ]
     },
     "metadata": {
      "needs_background": "light"
     },
     "output_type": "display_data"
    }
   ],
   "source": [
    "# Training and validation accuracy 그래프 그리기\n",
    "plt.clf()   # 그림을 초기화합니다\n",
    "\n",
    "plt.plot(epochs, acc, 'bo', label='Training acc')\n",
    "plt.plot(epochs, val_acc, 'b', label='Validation acc')\n",
    "plt.title('Training and validation accuracy')\n",
    "plt.xlabel('Epochs')\n",
    "plt.ylabel('Accuracy')\n",
    "plt.legend()\n",
    "\n",
    "plt.show()\n"
   ]
  },
  {
   "cell_type": "code",
   "execution_count": null,
   "id": "dd0c8041",
   "metadata": {},
   "outputs": [],
   "source": [
    "# c-3 GlobalMaxPooling1D() 레이어 모델의 test set 으로 평가"
   ]
  },
  {
   "cell_type": "code",
   "execution_count": 33,
   "id": "e7b84d2f",
   "metadata": {},
   "outputs": [
    {
     "name": "stdout",
     "output_type": "stream",
     "text": [
      "1537/1537 - 2s - loss: 0.6933 - accuracy: 0.4982\n",
      "[0.6933014988899231, 0.4981793165206909]\n"
     ]
    }
   ],
   "source": [
    "results = model_glob.evaluate(X_test_pre,  y_test, verbose=2)\n",
    "\n",
    "print(results)"
   ]
  },
  {
   "cell_type": "code",
   "execution_count": null,
   "id": "362e2ab1",
   "metadata": {},
   "outputs": [],
   "source": [
    "##정확도 비교"
   ]
  },
  {
   "cell_type": "code",
   "execution_count": null,
   "id": "0819488a",
   "metadata": {},
   "outputs": [],
   "source": [
    "RNN : 0.8453\n",
    "CNN : 0.4976\n",
    "GlobalMaxPooling1D() 레이어 : 0.5051\n",
    "RNN 모델의 정확도가 가장 높게 나왔다."
   ]
  },
  {
   "cell_type": "code",
   "execution_count": 34,
   "id": "088f4315",
   "metadata": {},
   "outputs": [
    {
     "name": "stdout",
     "output_type": "stream",
     "text": [
      "(10000, 16)\n"
     ]
    }
   ],
   "source": [
    "embedding_layer = model_rnn.layers[0]\n",
    "weights = embedding_layer.get_weights()[0]\n",
    "print(weights.shape)    # shape: (vocab_size, embedding_dim)"
   ]
  },
  {
   "cell_type": "code",
   "execution_count": null,
   "id": "98f25f3c",
   "metadata": {},
   "outputs": [],
   "source": []
  },
  {
   "cell_type": "code",
   "execution_count": 35,
   "id": "76be44d1",
   "metadata": {},
   "outputs": [],
   "source": [
    "# 학습한 Embedding 파라미터를 파일에 써서 저장. \n",
    "word2vec_file_path = os.getenv('HOME')+'/aiffel/sentiment_classification/data/word2vec.txt'\n",
    "f = open(word2vec_file_path, 'w')\n",
    "f.write('{} {}\\n'.format(vocab_size-4, word_vector_dim))  # 몇개의 벡터를 얼마 사이즈로 기재할지 타이틀을 씁니다.\n",
    "\n",
    "# 단어 개수(에서 특수문자 4개는 제외하고)만큼의 워드 벡터를 파일에 기록합니다. \n",
    "vectors = model_rnn.get_weights()[0]\n",
    "for i in range(4,vocab_size):\n",
    "    f.write('{} {}\\n'.format(index_to_word[i], ' '.join(map(str, list(vectors[i, :])))))\n",
    "f.close()"
   ]
  },
  {
   "cell_type": "code",
   "execution_count": 36,
   "id": "bec3cf51",
   "metadata": {},
   "outputs": [
    {
     "data": {
      "text/plain": [
       "[('명화', 0.9431427717208862),\n",
       " ('미소', 0.9422624111175537),\n",
       " ('잠기', 0.9422225952148438),\n",
       " ('소장', 0.9348759055137634),\n",
       " ('히트', 0.9339906573295593),\n",
       " ('사악', 0.9305805563926697),\n",
       " ('기타노', 0.9248445630073547),\n",
       " ('따라올', 0.9223556518554688),\n",
       " ('로빈윌리엄스', 0.9222946166992188),\n",
       " ('사로잡', 0.9193982481956482)]"
      ]
     },
     "execution_count": 36,
     "metadata": {},
     "output_type": "execute_result"
    }
   ],
   "source": [
    "from gensim.models.keyedvectors import Word2VecKeyedVectors\n",
    "\n",
    "word_vectors = Word2VecKeyedVectors.load_word2vec_format(word2vec_file_path, binary=False)\n",
    "word_vectors.similar_by_word(\"사랑\")"
   ]
  },
  {
   "cell_type": "code",
   "execution_count": null,
   "id": "abf6ecf5",
   "metadata": {},
   "outputs": [],
   "source": [
    "7. 한국어 Word2Vec 임베딩 활용하여 성능 개선"
   ]
  },
  {
   "cell_type": "code",
   "execution_count": null,
   "id": "1289a637",
   "metadata": {},
   "outputs": [],
   "source": [
    "!pip install --upgrade gensim==3.8.3"
   ]
  },
  {
   "cell_type": "code",
   "execution_count": null,
   "id": "f904766c",
   "metadata": {},
   "outputs": [],
   "source": [
    "import gensim\n",
    "from gensim.models import KeyedVectors\n",
    "gensim.__version__"
   ]
  },
  {
   "cell_type": "code",
   "execution_count": null,
   "id": "351d7674",
   "metadata": {},
   "outputs": [],
   "source": [
    "import gensim\n",
    "from gensim.models import KeyedVectors\n",
    "\n",
    "word2vec_path = os.getenv('HOME')+'/aiffel/sentiment_classification/data/ko.bin'\n",
    "\n",
    "word2vec = gensim.models.Word2Vec.load(word2vec_path)\n",
    "vector = word2vec['사랑']\n",
    "vector.shape     # 200dim의 워드 벡터"
   ]
  },
  {
   "cell_type": "code",
   "execution_count": null,
   "id": "bb28a561",
   "metadata": {},
   "outputs": [],
   "source": [
    "word2vec.similar_by_word(\"가족\")"
   ]
  },
  {
   "cell_type": "code",
   "execution_count": null,
   "id": "7e614d6a",
   "metadata": {},
   "outputs": [],
   "source": [
    "RNN 모델 생성"
   ]
  },
  {
   "cell_type": "code",
   "execution_count": null,
   "id": "efc4f385",
   "metadata": {},
   "outputs": [],
   "source": [
    "vocab_size = 10000    # 어휘 사전의 크기입니다(10,000개의 단어)\n",
    "word_vector_dim = 200  # 워드 벡터의 차원수 (변경가능한 하이퍼파라미터)\n",
    "\n",
    "embedding_matrix = np.random.rand(vocab_size, word_vector_dim)\n",
    "\n",
    "# embedding_matrix에 Word2Vec 워드 벡터를 단어 하나씩마다 차례차례 카피한다.\n",
    "for i in range(4,vocab_size):\n",
    "    if index_to_word[i] in word2vec:\n",
    "        embedding_matrix[i] = word2vec[index_to_word[i]]"
   ]
  },
  {
   "cell_type": "code",
   "execution_count": null,
   "id": "50640e63",
   "metadata": {},
   "outputs": [],
   "source": [
    "from tensorflow.keras.initializers import Constant\n",
    "\n",
    "vocab_size = 10000    # 어휘 사전의 크기입니다(10,000개의 단어)\n",
    "word_vector_dim = 200  # 워드 벡터의 차원 수 \n",
    "\n",
    "# 모델 구성\n",
    "model_ko = tf.keras.Sequential()\n",
    "model_ko.add(tf.keras.layers.Embedding(vocab_size, \n",
    "                                 word_vector_dim, \n",
    "                                 embeddings_initializer=Constant(embedding_matrix),  # 카피한 임베딩을 여기서 활용\n",
    "                                 input_length=maxlen, \n",
    "                                 trainable=True))   # trainable을 True로 주면 Fine-tuning\n",
    "model_ko.add(tf.keras.layers.Conv1D(16, 7, activation='relu'))\n",
    "model_ko.add(tf.keras.layers.MaxPooling1D(5))\n",
    "model_ko.add(tf.keras.layers.Conv1D(16, 7, activation='relu'))\n",
    "model_ko.add(tf.keras.layers.GlobalMaxPooling1D())\n",
    "model_ko.add(tf.keras.layers.Dense(8, activation='relu'))\n",
    "model_ko.add(tf.keras.layers.Dense(1, activation='sigmoid')) \n",
    "\n",
    "model_ko.summary()"
   ]
  },
  {
   "cell_type": "code",
   "execution_count": null,
   "id": "490c03aa",
   "metadata": {},
   "outputs": [],
   "source": [
    ". 회고\n",
    "영화리뷰를 전처리하여 분석하는 과정이 흥미러웠고 배웠던 이론을 실전에 적용하는 과정이 재미있었다.\n",
    "영어를 넘어 한글을 적용해보는 경험을 통해 다양한 언어에 적용하는 방법을 배울 수 있었다.\n",
    "여러가지 모델을 통해 학습 적용을 해 봄을 통해 다양한 모델에 대해 공부할 수 있었고\n",
    "한국어 Word2Vec 임베딩 활용하여 성능 개선의 방법을 배울수 있었다.\n",
    "하지만 적용한 결과 RNN에서는 정확도가 0.8453이 나왔지만\n",
    "새로 모델을 적용한 결과 정확도가 0.8400로 오히려 줄어드는 결과가 나와서 당황하였다.\n",
    "앞으로 원인을 찾고 새로운 개선방법을 공부해 볼 생각이다."
   ]
  }
 ],
 "metadata": {
  "kernelspec": {
   "display_name": "Python 3 (ipykernel)",
   "language": "python",
   "name": "python3"
  },
  "language_info": {
   "codemirror_mode": {
    "name": "ipython",
    "version": 3
   },
   "file_extension": ".py",
   "mimetype": "text/x-python",
   "name": "python",
   "nbconvert_exporter": "python",
   "pygments_lexer": "ipython3",
   "version": "3.9.7"
  }
 },
 "nbformat": 4,
 "nbformat_minor": 5
}
